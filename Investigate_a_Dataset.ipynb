{
 "cells": [
  {
   "cell_type": "markdown",
   "metadata": {},
   "source": [
    "\n",
    "\n",
    "# Project: no_show_appointments data analysis\n",
    "\n",
    "## Table of Contents\n",
    "<ul>\n",
    "<li><a href=\"#intro\">Introduction</a></li>\n",
    "<li><a href=\"#wrangling\">Data Wrangling</a></li>\n",
    "<li><a href=\"#eda\">Exploratory Data Analysis</a></li>\n",
    "<li><a href=\"#conclusions\">Conclusions</a></li>\n",
    "</ul>"
   ]
  },
  {
   "cell_type": "markdown",
   "metadata": {},
   "source": [
    "<a id='intro'></a>\n",
    "## Introduction\n",
    "## Reason for choosing this dataset: \n",
    "         I have a satisfactory knowledge about this data and I love the medical field in particular<br>\n",
    "  \n",
    "### Dataset Description \n",
    "\n",
    ">**Tip**:This dataset collects information from 100k medical appointments in Brazil and is focused on the question of whether or not patients show up for their appointment. A number of characteristics about the patient are included in each row.<br>\n",
    "PatientId : patient id.<br>\n",
    "AppointmentID : Appointment id.<br>\n",
    "Gender :sex of patient.<br>\n",
    "ScheduledDay:the day and the time that patient set up his appointment.<br>\n",
    "AppointmentDay : Appointment day.<br>\n",
    "Age : Age of the patient.<br>\n",
    "Neighbourhood :Indicates the location of the hospital.<br>\n",
    "Scholarship :Indicates whether or not the patient is enrolled in Brasilian welfare program Bolsa Família.<br>\n",
    "Hipertension :Indicate whether the patient has Hipertension, yes==1 but no==0.<br>\n",
    "Diabetes :Indicate whether the patient has Diabetes, yes==1 but no==0.<br>\n",
    "Alcoholism: Indicate whether the patient is Alcoholism, yes==1 but no==0.<br>\n",
    "Handcap: Indicate whether the patient has Handicap,degrees of Handcap is 1,2,3,4 but 0 if he has not it <br>\n",
    "SMS_received: Indicates whether the patient has received  sms to reminder him about his appointment, yes==1 but no==0.<br>\n",
    "No-show :it says ‘No’ if the patient showed up to their appointment, and ‘Yes’ if they did not show up.<br>\n",
    "\n",
    "\n",
    "### Question(s) for Analysis\n",
    "What factors are important for us to know in order to predict if a patient will showup for their scheduled appointment?<br>\n",
    "\n",
    "\n",
    "\n",
    "\n",
    "\n",
    "\n",
    "\n",
    "\n",
    "\n"
   ]
  },
  {
   "cell_type": "code",
   "execution_count": 1,
   "metadata": {},
   "outputs": [],
   "source": [
    "import pandas as pd\n",
    "import numpy as np\n",
    "import matplotlib.pyplot as plt\n",
    "import seaborn as sns\n",
    "%matplotlib inline"
   ]
  },
  {
   "cell_type": "code",
   "execution_count": 2,
   "metadata": {
    "scrolled": true
   },
   "outputs": [],
   "source": [
    "# Upgrade pandas to use dataframe.explode() function. \n",
    "#!pip install --upgrade pandas==0.25.0"
   ]
  },
  {
   "cell_type": "markdown",
   "metadata": {},
   "source": [
    "<a id='wrangling'></a>\n",
    "## Data Wrangling\n",
    "\n",
    "\n"
   ]
  },
  {
   "cell_type": "code",
   "execution_count": 3,
   "metadata": {},
   "outputs": [],
   "source": [
    "pd.set_option('display.max_rows', 100) # to fix problem of max_arguments error\n",
    "df= pd.read_csv('no_show/no_show.csv')\n",
    "\n"
   ]
  },
  {
   "cell_type": "markdown",
   "metadata": {},
   "source": [
    "\n",
    "### Data Cleaning\n",
    "> **Tip**: no missing data<br>\n",
    "           no duplicated data<br>\n",
    "           but we have incorrect data as negative number in Age variable,so we will replace it with positive number.<br>\n",
    "           also the patients who have zero Age ,i think they are new born because we only have one year old patients.<br>\n",
    "           we will rename some colums to become more readable.<br>            \n",
    "           we will convert scheduleday and appointmentday columns to datetime data.<br>\n",
    "           we will remove an appointmentid bec it is unnecessary.<br>\n",
    "           we correct a wrong entry for the Scheduled_Date and Appointment_Date Resulting a negative period between them.<br>\n",
    "           "
   ]
  },
  {
   "cell_type": "code",
   "execution_count": 4,
   "metadata": {},
   "outputs": [
    {
     "name": "stdout",
     "output_type": "stream",
     "text": [
      "<class 'pandas.core.frame.DataFrame'>\n",
      "RangeIndex: 110527 entries, 0 to 110526\n",
      "Data columns (total 14 columns):\n",
      " #   Column          Non-Null Count   Dtype  \n",
      "---  ------          --------------   -----  \n",
      " 0   PatientId       110527 non-null  float64\n",
      " 1   AppointmentID   110527 non-null  int64  \n",
      " 2   Gender          110527 non-null  object \n",
      " 3   ScheduledDay    110527 non-null  object \n",
      " 4   AppointmentDay  110527 non-null  object \n",
      " 5   Age             110527 non-null  int64  \n",
      " 6   Neighbourhood   110527 non-null  object \n",
      " 7   Scholarship     110527 non-null  int64  \n",
      " 8   Hipertension    110527 non-null  int64  \n",
      " 9   Diabetes        110527 non-null  int64  \n",
      " 10  Alcoholism      110527 non-null  int64  \n",
      " 11  Handcap         110527 non-null  int64  \n",
      " 12  SMS_received    110527 non-null  int64  \n",
      " 13  No-show         110527 non-null  object \n",
      "dtypes: float64(1), int64(8), object(5)\n",
      "memory usage: 11.8+ MB\n"
     ]
    }
   ],
   "source": [
    "df.info()"
   ]
  },
  {
   "cell_type": "markdown",
   "metadata": {},
   "source": [
    "No missing data"
   ]
  },
  {
   "cell_type": "code",
   "execution_count": 5,
   "metadata": {},
   "outputs": [
    {
     "data": {
      "text/plain": [
       "0"
      ]
     },
     "execution_count": 5,
     "metadata": {},
     "output_type": "execute_result"
    }
   ],
   "source": [
    "sum(df.duplicated())"
   ]
  },
  {
   "cell_type": "markdown",
   "metadata": {},
   "source": [
    "no duplicated data"
   ]
  },
  {
   "cell_type": "code",
   "execution_count": 6,
   "metadata": {},
   "outputs": [
    {
     "data": {
      "text/plain": [
       "array([ 62,  56,   8,  76,  23,  39,  21,  19,  30,  29,  22,  28,  54,\n",
       "        15,  50,  40,  46,   4,  13,  65,  45,  51,  32,  12,  61,  38,\n",
       "        79,  18,  63,  64,  85,  59,  55,  71,  49,  78,  31,  58,  27,\n",
       "         6,   2,  11,   7,   0,   3,   1,  69,  68,  60,  67,  36,  10,\n",
       "        35,  20,  26,  34,  33,  16,  42,   5,  47,  17,  41,  44,  37,\n",
       "        24,  66,  77,  81,  70,  53,  75,  73,  52,  74,  43,  89,  57,\n",
       "        14,   9,  48,  83,  72,  25,  80,  87,  88,  84,  82,  90,  94,\n",
       "        86,  91,  98,  92,  96,  93,  95,  97, 102, 115, 100,  99,  -1],\n",
       "      dtype=int64)"
      ]
     },
     "execution_count": 6,
     "metadata": {},
     "output_type": "execute_result"
    }
   ],
   "source": [
    "df['Age'].unique()"
   ]
  },
  {
   "cell_type": "markdown",
   "metadata": {},
   "source": [
    "we have uncorrected data in this variable(Age) bec we have negative number\n"
   ]
  },
  {
   "cell_type": "code",
   "execution_count": 7,
   "metadata": {},
   "outputs": [],
   "source": [
    "df2=df.copy()\n"
   ]
  },
  {
   "cell_type": "code",
   "execution_count": 8,
   "metadata": {},
   "outputs": [],
   "source": [
    "#rename columns\n",
    "df2.rename(columns={'PatientId':'Patient_ID', 'AppointmentID':'Appointment_ID', 'ScheduledDay':'Scheduled_Date', 'AppointmentDay':'Appointment_Date','Handcap':'Handicap','SMS_received':'SMS'},inplace=True)\n"
   ]
  },
  {
   "cell_type": "code",
   "execution_count": 9,
   "metadata": {},
   "outputs": [],
   "source": [
    "df2['Age'].replace({-1:1}, inplace=True) #correct this value "
   ]
  },
  {
   "cell_type": "code",
   "execution_count": 10,
   "metadata": {},
   "outputs": [],
   "source": [
    "df2['Scheduled_Date']=pd.to_datetime(df2['Scheduled_Date'])\n",
    "df2['Appointment_Date']=pd.to_datetime(df2['Appointment_Date']) #convert to datetime type\n"
   ]
  },
  {
   "cell_type": "code",
   "execution_count": 11,
   "metadata": {},
   "outputs": [],
   "source": [
    "df2.drop('Appointment_ID', axis=1, inplace=True) #remove unnecessary cols"
   ]
  },
  {
   "cell_type": "code",
   "execution_count": 12,
   "metadata": {},
   "outputs": [],
   "source": [
    "df2['Scheduled_Date2'] = df2['Scheduled_Date'] #make a copy of this col to use it later in getting the waiting time"
   ]
  },
  {
   "cell_type": "code",
   "execution_count": 13,
   "metadata": {},
   "outputs": [],
   "source": [
    "df2['Appointment_Date2'] = df2['Appointment_Date'] #make a copy of this col to use it later in getting the waiting time"
   ]
  },
  {
   "cell_type": "code",
   "execution_count": 14,
   "metadata": {},
   "outputs": [],
   "source": [
    "df2['Scheduled_Date2'] = pd.to_datetime(df2['Scheduled_Date2'].dt.date)"
   ]
  },
  {
   "cell_type": "code",
   "execution_count": 15,
   "metadata": {},
   "outputs": [],
   "source": [
    "df2['Appointment_Date2'] = pd.to_datetime(df2['Appointment_Date2'].dt.date)"
   ]
  },
  {
   "cell_type": "markdown",
   "metadata": {},
   "source": [
    "show a wrong entry of schedual date and appointment date that made a waiting time a negative value"
   ]
  },
  {
   "cell_type": "code",
   "execution_count": 16,
   "metadata": {},
   "outputs": [
    {
     "data": {
      "text/html": [
       "<div>\n",
       "<style scoped>\n",
       "    .dataframe tbody tr th:only-of-type {\n",
       "        vertical-align: middle;\n",
       "    }\n",
       "\n",
       "    .dataframe tbody tr th {\n",
       "        vertical-align: top;\n",
       "    }\n",
       "\n",
       "    .dataframe thead th {\n",
       "        text-align: right;\n",
       "    }\n",
       "</style>\n",
       "<table border=\"1\" class=\"dataframe\">\n",
       "  <thead>\n",
       "    <tr style=\"text-align: right;\">\n",
       "      <th></th>\n",
       "      <th>Patient_ID</th>\n",
       "      <th>Gender</th>\n",
       "      <th>Scheduled_Date</th>\n",
       "      <th>Appointment_Date</th>\n",
       "      <th>Age</th>\n",
       "      <th>Neighbourhood</th>\n",
       "      <th>Scholarship</th>\n",
       "      <th>Hipertension</th>\n",
       "      <th>Diabetes</th>\n",
       "      <th>Alcoholism</th>\n",
       "      <th>Handicap</th>\n",
       "      <th>SMS</th>\n",
       "      <th>No-show</th>\n",
       "      <th>Scheduled_Date2</th>\n",
       "      <th>Appointment_Date2</th>\n",
       "    </tr>\n",
       "  </thead>\n",
       "  <tbody>\n",
       "    <tr>\n",
       "      <th>27033</th>\n",
       "      <td>7.839270e+12</td>\n",
       "      <td>M</td>\n",
       "      <td>2016-05-10 10:51:53+00:00</td>\n",
       "      <td>2016-05-09 00:00:00+00:00</td>\n",
       "      <td>38</td>\n",
       "      <td>RESISTÊNCIA</td>\n",
       "      <td>0</td>\n",
       "      <td>0</td>\n",
       "      <td>0</td>\n",
       "      <td>0</td>\n",
       "      <td>1</td>\n",
       "      <td>0</td>\n",
       "      <td>Yes</td>\n",
       "      <td>2016-05-10</td>\n",
       "      <td>2016-05-09</td>\n",
       "    </tr>\n",
       "    <tr>\n",
       "      <th>55226</th>\n",
       "      <td>7.896290e+12</td>\n",
       "      <td>F</td>\n",
       "      <td>2016-05-18 14:50:41+00:00</td>\n",
       "      <td>2016-05-17 00:00:00+00:00</td>\n",
       "      <td>19</td>\n",
       "      <td>SANTO ANTÔNIO</td>\n",
       "      <td>0</td>\n",
       "      <td>0</td>\n",
       "      <td>0</td>\n",
       "      <td>0</td>\n",
       "      <td>1</td>\n",
       "      <td>0</td>\n",
       "      <td>Yes</td>\n",
       "      <td>2016-05-18</td>\n",
       "      <td>2016-05-17</td>\n",
       "    </tr>\n",
       "    <tr>\n",
       "      <th>64175</th>\n",
       "      <td>2.425230e+13</td>\n",
       "      <td>F</td>\n",
       "      <td>2016-05-05 13:43:58+00:00</td>\n",
       "      <td>2016-05-04 00:00:00+00:00</td>\n",
       "      <td>22</td>\n",
       "      <td>CONSOLAÇÃO</td>\n",
       "      <td>0</td>\n",
       "      <td>0</td>\n",
       "      <td>0</td>\n",
       "      <td>0</td>\n",
       "      <td>0</td>\n",
       "      <td>0</td>\n",
       "      <td>Yes</td>\n",
       "      <td>2016-05-05</td>\n",
       "      <td>2016-05-04</td>\n",
       "    </tr>\n",
       "    <tr>\n",
       "      <th>71533</th>\n",
       "      <td>9.982320e+14</td>\n",
       "      <td>F</td>\n",
       "      <td>2016-05-11 13:49:20+00:00</td>\n",
       "      <td>2016-05-05 00:00:00+00:00</td>\n",
       "      <td>81</td>\n",
       "      <td>SANTO ANTÔNIO</td>\n",
       "      <td>0</td>\n",
       "      <td>0</td>\n",
       "      <td>0</td>\n",
       "      <td>0</td>\n",
       "      <td>0</td>\n",
       "      <td>0</td>\n",
       "      <td>Yes</td>\n",
       "      <td>2016-05-11</td>\n",
       "      <td>2016-05-05</td>\n",
       "    </tr>\n",
       "    <tr>\n",
       "      <th>72362</th>\n",
       "      <td>3.787480e+12</td>\n",
       "      <td>M</td>\n",
       "      <td>2016-05-04 06:50:57+00:00</td>\n",
       "      <td>2016-05-03 00:00:00+00:00</td>\n",
       "      <td>7</td>\n",
       "      <td>TABUAZEIRO</td>\n",
       "      <td>0</td>\n",
       "      <td>0</td>\n",
       "      <td>0</td>\n",
       "      <td>0</td>\n",
       "      <td>0</td>\n",
       "      <td>0</td>\n",
       "      <td>Yes</td>\n",
       "      <td>2016-05-04</td>\n",
       "      <td>2016-05-03</td>\n",
       "    </tr>\n",
       "  </tbody>\n",
       "</table>\n",
       "</div>"
      ],
      "text/plain": [
       "         Patient_ID Gender            Scheduled_Date  \\\n",
       "27033  7.839270e+12      M 2016-05-10 10:51:53+00:00   \n",
       "55226  7.896290e+12      F 2016-05-18 14:50:41+00:00   \n",
       "64175  2.425230e+13      F 2016-05-05 13:43:58+00:00   \n",
       "71533  9.982320e+14      F 2016-05-11 13:49:20+00:00   \n",
       "72362  3.787480e+12      M 2016-05-04 06:50:57+00:00   \n",
       "\n",
       "               Appointment_Date  Age  Neighbourhood  Scholarship  \\\n",
       "27033 2016-05-09 00:00:00+00:00   38    RESISTÊNCIA            0   \n",
       "55226 2016-05-17 00:00:00+00:00   19  SANTO ANTÔNIO            0   \n",
       "64175 2016-05-04 00:00:00+00:00   22     CONSOLAÇÃO            0   \n",
       "71533 2016-05-05 00:00:00+00:00   81  SANTO ANTÔNIO            0   \n",
       "72362 2016-05-03 00:00:00+00:00    7     TABUAZEIRO            0   \n",
       "\n",
       "       Hipertension  Diabetes  Alcoholism  Handicap  SMS No-show  \\\n",
       "27033             0         0           0         1    0     Yes   \n",
       "55226             0         0           0         1    0     Yes   \n",
       "64175             0         0           0         0    0     Yes   \n",
       "71533             0         0           0         0    0     Yes   \n",
       "72362             0         0           0         0    0     Yes   \n",
       "\n",
       "      Scheduled_Date2 Appointment_Date2  \n",
       "27033      2016-05-10        2016-05-09  \n",
       "55226      2016-05-18        2016-05-17  \n",
       "64175      2016-05-05        2016-05-04  \n",
       "71533      2016-05-11        2016-05-05  \n",
       "72362      2016-05-04        2016-05-03  "
      ]
     },
     "execution_count": 16,
     "metadata": {},
     "output_type": "execute_result"
    }
   ],
   "source": [
    "wrong_date=df2[df2['Scheduled_Date2'] > df2['Appointment_Date2']]\n",
    "wrong_date"
   ]
  },
  {
   "cell_type": "markdown",
   "metadata": {},
   "source": [
    "in this step we correct a wrong entry for the Scheduled_Date and Appointment_Date Resulting a negative period between them."
   ]
  },
  {
   "cell_type": "code",
   "execution_count": 17,
   "metadata": {},
   "outputs": [],
   "source": [
    "df2['Scheduled_Date2'],df2['Appointment_Date2']=np.where(df2['Scheduled_Date2']>df2['Appointment_Date2'],\n",
    " (df2['Appointment_Date2'],df2['Scheduled_Date2']),(df2['Scheduled_Date2'],df2['Appointment_Date2']))"
   ]
  },
  {
   "cell_type": "code",
   "execution_count": 18,
   "metadata": {},
   "outputs": [],
   "source": [
    "df2['diff_date']=(df2['Appointment_Date2']-df2['Scheduled_Date2']).dt.days #the period that patient wait for his appointment.\n"
   ]
  },
  {
   "cell_type": "code",
   "execution_count": 19,
   "metadata": {},
   "outputs": [],
   "source": [
    "df3=df2.copy()\n"
   ]
  },
  {
   "cell_type": "markdown",
   "metadata": {},
   "source": [
    "<a id='eda'></a>\n",
    "## Exploratory Data Analysis\n",
    "\n",
    "\n"
   ]
  },
  {
   "cell_type": "markdown",
   "metadata": {},
   "source": [
    " ###  Research Question 1 (What is the percentage of patients who attended the appointment and those who did not?)"
   ]
  },
  {
   "cell_type": "code",
   "execution_count": 20,
   "metadata": {},
   "outputs": [],
   "source": [
    "df2['No_show_dummy']=df2['No-show'] "
   ]
  },
  {
   "cell_type": "code",
   "execution_count": 21,
   "metadata": {},
   "outputs": [],
   "source": [
    "df2['No_show_dummy'].replace({\"Yes\":0,\"No\":1},inplace=True) #make a dummy variable to use it in analysis"
   ]
  },
  {
   "cell_type": "code",
   "execution_count": 22,
   "metadata": {},
   "outputs": [],
   "source": [
    "df3=df2.copy()"
   ]
  },
  {
   "cell_type": "code",
   "execution_count": 23,
   "metadata": {},
   "outputs": [],
   "source": [
    "def pie(df2,x,labels,title):\n",
    "    df2[x].value_counts().plot(kind=\"pie\",radius=1.3,labels=labels,title=title,autopct='%0.2f%%', startangle=180,textprops={\"fontsize\":15}).set_ylabel('')"
   ]
  },
  {
   "cell_type": "code",
   "execution_count": 24,
   "metadata": {},
   "outputs": [
    {
     "data": {
      "image/png": "[encoded data removed]",
      "text/plain": [
       "<Figure size 432x288 with 1 Axes>"
      ]
     },
     "metadata": {},
     "output_type": "display_data"
    }
   ],
   "source": [
    "pie(df2,\"No_show_dummy\", labels=[\"attendees\",\"not_attendees\"], title=\"percentage of patients who showed up and who didn't\")"
   ]
  },
  {
   "cell_type": "code",
   "execution_count": 25,
   "metadata": {},
   "outputs": [],
   "source": [
    "df3=df2.copy()"
   ]
  },
  {
   "cell_type": "markdown",
   "metadata": {},
   "source": [
    "### Research Question 2  (What location do many patients come to?)"
   ]
  },
  {
   "cell_type": "code",
   "execution_count": 26,
   "metadata": {},
   "outputs": [],
   "source": [
    "#actual number of patients\n",
    "df3=df3.drop_duplicates('Patient_ID')[df3.columns]\n"
   ]
  },
  {
   "cell_type": "code",
   "execution_count": 27,
   "metadata": {},
   "outputs": [],
   "source": [
    "neighborhood = df3['Neighbourhood'].value_counts().iloc[:4]\n"
   ]
  },
  {
   "cell_type": "code",
   "execution_count": 28,
   "metadata": {},
   "outputs": [
    {
     "data": {
      "image/png": "[encoded data removed]",
      "text/plain": [
       "<Figure size 504x360 with 1 Axes>"
      ]
     },
     "metadata": {
      "needs_background": "light"
     },
     "output_type": "display_data"
    }
   ],
   "source": [
    "plt.figure(figsize=(7,5))\n",
    "plt.title(\"number of patients in most common locations\")\n",
    "plt.bar([1,2,3,4], neighborhood.values, tick_label=neighborhood.index)\n",
    "plt.xlabel(\"location\")\n",
    "plt.ylabel(\"number of patients\");"
   ]
  },
  {
   "cell_type": "markdown",
   "metadata": {},
   "source": [
    " JARDIM CAMBURI has 4135 patients and More than any other locations"
   ]
  },
  {
   "cell_type": "markdown",
   "metadata": {},
   "source": [
    "### Research Question 3 (Was sending a message to patients effective in ensuring their attendance at the agreed appointment?)"
   ]
  },
  {
   "cell_type": "markdown",
   "metadata": {},
   "source": [
    "compare between two groups who received an sms and show up,but another group came without an sms"
   ]
  },
  {
   "cell_type": "code",
   "execution_count": 29,
   "metadata": {},
   "outputs": [],
   "source": [
    "def compare(df2, x, y):\n",
    "    attendence=df2[df2[x]==1][y].median()   \n",
    "    non_attendence=df2[df2[x]==0][y].median()\n",
    "    return(attendence,non_attendence)"
   ]
  },
  {
   "cell_type": "code",
   "execution_count": 30,
   "metadata": {},
   "outputs": [
    {
     "data": {
      "text/plain": [
       "(1.0, 1.0)"
      ]
     },
     "execution_count": 30,
     "metadata": {},
     "output_type": "execute_result"
    }
   ],
   "source": [
    "compare(df2 ,\"SMS\", \"No_show_dummy\")"
   ]
  },
  {
   "cell_type": "markdown",
   "metadata": {},
   "source": [
    "obs It was useless "
   ]
  },
  {
   "cell_type": "markdown",
   "metadata": {},
   "source": [
    "### Research Question 4 (What is the effect of Scholarship on the patient’s commitment to attend the appointment?)"
   ]
  },
  {
   "cell_type": "code",
   "execution_count": 31,
   "metadata": {},
   "outputs": [
    {
     "data": {
      "image/png": "[encoded data removed]",
      "text/plain": [
       "<Figure size 432x288 with 1 Axes>"
      ]
     },
     "metadata": {},
     "output_type": "display_data"
    }
   ],
   "source": [
    "pie(df2,\"Scholarship\", labels=[\"not_have_scholarship\",\"have_scholarship\"], title=\"the percentage of patients who have Scholarship  and who didn't\")"
   ]
  },
  {
   "cell_type": "markdown",
   "metadata": {},
   "source": [
    "then we can conclude that the most patients did not have a scholarship,from this step we can think about there is no effect from having a Scholarship on on the patient's commitment to attend the appointment"
   ]
  },
  {
   "cell_type": "markdown",
   "metadata": {},
   "source": [
    "compare between two groups who have a Scholarship and show up,but another group came without having it"
   ]
  },
  {
   "cell_type": "code",
   "execution_count": 32,
   "metadata": {},
   "outputs": [
    {
     "data": {
      "text/plain": [
       "(1.0, 1.0)"
      ]
     },
     "execution_count": 32,
     "metadata": {},
     "output_type": "execute_result"
    }
   ],
   "source": [
    "compare(df3 ,\"Scholarship\", \"No_show_dummy\")"
   ]
  },
  {
   "cell_type": "markdown",
   "metadata": {},
   "source": [
    "this step To confirm that there is no effect from having Scholarship"
   ]
  },
  {
   "cell_type": "markdown",
   "metadata": {},
   "source": [
    "### Research Question 5 (What is the effect of alcohol addiction on the patient's commitment to attend the appointment??)"
   ]
  },
  {
   "cell_type": "markdown",
   "metadata": {},
   "source": [
    "compare between two groups who Alcoholism and show up,but another group did not Alcoholism and also came"
   ]
  },
  {
   "cell_type": "code",
   "execution_count": 33,
   "metadata": {},
   "outputs": [
    {
     "data": {
      "text/plain": [
       "(1.0, 1.0)"
      ]
     },
     "execution_count": 33,
     "metadata": {},
     "output_type": "execute_result"
    }
   ],
   "source": [
    "compare(df3 ,\"Alcoholism\", \"No_show_dummy\")"
   ]
  },
  {
   "cell_type": "markdown",
   "metadata": {},
   "source": [
    "from previous result we can conclude there is no effect "
   ]
  },
  {
   "cell_type": "markdown",
   "metadata": {},
   "source": [
    "### Research Question 6 (What is the effect of gender of the patient on the patient’s commitment to attend the appointment?)"
   ]
  },
  {
   "cell_type": "code",
   "execution_count": 34,
   "metadata": {},
   "outputs": [],
   "source": [
    "def myCountplot(df3, x, title):\n",
    "    gen=df3.groupby([x,\"No_show_dummy\"]).count()\n",
    "    gen[\"Scheduled_Date\"].unstack().plot(kind=\"bar\",stacked=False,figsize=(4,4),grid=False)\n",
    "    plt.title(title)\n",
    "    plt.legend([\"not_attendants\", \"attendants\"])\n",
    "    plt.ylabel(\"number of patients\")"
   ]
  },
  {
   "cell_type": "code",
   "execution_count": 35,
   "metadata": {},
   "outputs": [
    {
     "data": {
      "image/png": "[encoded data removed]",
      "text/plain": [
       "<Figure size 288x288 with 1 Axes>"
      ]
     },
     "metadata": {
      "needs_background": "light"
     },
     "output_type": "display_data"
    }
   ],
   "source": [
    "myCountplot(df3,x=\"Gender\",title=\"male and females who showed up and who didn't\")"
   ]
  },
  {
   "cell_type": "markdown",
   "metadata": {},
   "source": [
    "note:<br>\n",
    "The vast majority of females attended, as well as for men, and from the drawing we also see that most of the patients were<br> women. In the end, we note that both men and women do not differ much in terms of commitment to the appointment<br>"
   ]
  },
  {
   "cell_type": "markdown",
   "metadata": {},
   "source": [
    "### Question 7 (Which age group is most committed to their appointment?)\n"
   ]
  },
  {
   "cell_type": "code",
   "execution_count": 36,
   "metadata": {},
   "outputs": [],
   "source": [
    "#create bins \n",
    "df3['binned_age']=pd.cut(x=df3['Age'], bins=[0,11,21,30,50,115])"
   ]
  },
  {
   "cell_type": "code",
   "execution_count": 37,
   "metadata": {},
   "outputs": [
    {
     "data": {
      "image/png": "[encoded data removed]",
      "text/plain": [
       "<Figure size 288x288 with 1 Axes>"
      ]
     },
     "metadata": {
      "needs_background": "light"
     },
     "output_type": "display_data"
    }
   ],
   "source": [
    "myCountplot(df3,x=\"binned_age\", title=\"number of patients who showed up and who didn't in each category of age\")"
   ]
  },
  {
   "cell_type": "markdown",
   "metadata": {},
   "source": [
    "it seems that older patients are more commited to their appointments' schedules than others."
   ]
  },
  {
   "cell_type": "markdown",
   "metadata": {},
   "source": [
    "### Research Question 8 (Does the waiting time have an effect on patients not attending their appointment?)"
   ]
  },
  {
   "cell_type": "code",
   "execution_count": 38,
   "metadata": {},
   "outputs": [],
   "source": [
    "\n",
    "period_to_appointment = df2.groupby('No-show')['diff_date'].mean()\n"
   ]
  },
  {
   "cell_type": "code",
   "execution_count": 39,
   "metadata": {},
   "outputs": [
    {
     "data": {
      "image/png": "[encoded data removed]",
      "text/plain": [
       "<Figure size 288x288 with 1 Axes>"
      ]
     },
     "metadata": {
      "needs_background": "light"
     },
     "output_type": "display_data"
    }
   ],
   "source": [
    "period_to_appointment.plot(kind=\"bar\",figsize=(4,4),color='pink') \n",
    "plt.title(\"average of waiting time\")\n",
    "plt.xlabel('coming')\n",
    "plt.ylabel('average waiting time until appointment');\n"
   ]
  },
  {
   "cell_type": "markdown",
   "metadata": {},
   "source": [
    "it seems, The longer the waiting time, the more no show patients"
   ]
  },
  {
   "cell_type": "markdown",
   "metadata": {},
   "source": [
    "### Research Question 9(the relation between waiting time and age ?)"
   ]
  },
  {
   "cell_type": "code",
   "execution_count": 40,
   "metadata": {},
   "outputs": [
    {
     "data": {
      "image/png": "[encoded data removed]",
      "text/plain": [
       "<Figure size 432x288 with 1 Axes>"
      ]
     },
     "metadata": {
      "needs_background": "light"
     },
     "output_type": "display_data"
    }
   ],
   "source": [
    "plt.title(\"relation between waiting time and age\") #scatter plot to show the relation between waiting time and age\n",
    "plt.scatter(df2['diff_date'], df2[\"Age\"]);\n"
   ]
  },
  {
   "cell_type": "code",
   "execution_count": 41,
   "metadata": {},
   "outputs": [
    {
     "data": {
      "text/plain": [
       "0.04857275541357966"
      ]
     },
     "execution_count": 41,
     "metadata": {},
     "output_type": "execute_result"
    }
   ],
   "source": [
    "correlation = np.corrcoef(df3['diff_date'], df3['Age'])[0, 1] #person correlation\n",
    "correlation"
   ]
  },
  {
   "cell_type": "markdown",
   "metadata": {},
   "source": [
    "we can conclude there is a weak positive correlation between them"
   ]
  },
  {
   "cell_type": "markdown",
   "metadata": {},
   "source": [
    "### Research Question 10(what the effect of Handicap on committed to their appointment ?)"
   ]
  },
  {
   "cell_type": "code",
   "execution_count": 42,
   "metadata": {},
   "outputs": [
    {
     "data": {
      "image/png": "[encoded data removed]",
      "text/plain": [
       "<Figure size 288x288 with 1 Axes>"
      ]
     },
     "metadata": {
      "needs_background": "light"
     },
     "output_type": "display_data"
    }
   ],
   "source": [
    "myCountplot(df3,x=\"Handicap\", title=\"number of patients who showed up and who didn't with handicap or not\")"
   ]
  },
  {
   "cell_type": "markdown",
   "metadata": {},
   "source": [
    "well,most of patients did not have Handicap, so there is no effect in this case"
   ]
  },
  {
   "cell_type": "markdown",
   "metadata": {},
   "source": [
    "<a id='conclusions'></a>\n",
    "## Conclusions\n",
    "\n",
    "> **Tip**:Percentage of patients who show up on their appointments represents 79.81%<br> .\n",
    "          Percentage of patients who Don't show up on their appointments represents 20.19% <br>\n",
    "          there are some patients who came more than once<br>\n",
    "         JARDIM CAMBURI has 4135 patients and The vast majority of them attended therefore this is the most frequent place.<br>\n",
    "         Sending messages to patients was useless because many patients came without SMS at all<br>\n",
    "         then we can conclude that the most patients did not have a scholarship,so there is no effect from this factor<br>\n",
    "         from previous result we can conclude there is no effect of Alcoholism<br>\n",
    "         number of females who attendant 31936 of 39703 and number of males who attendant 17717 of 22041<br>\n",
    "         we note that both men and women do not differ much in terms of commitment to the appointment<br>\n",
    "         it seems that older patients are more commited to their appointments' schedules than others.<br>\n",
    "         The longer the waiting time, the more no show patients<br>\n",
    "         we can conclude there is a weak positive correlation between waiting time and age<br>\n",
    "         well,most of patients did not have Handicap, so there is no effect in this case<br>\n",
    "         the dependent variable is No-show <br>\n",
    "         the independent variables are (SMS_received,Gender,wait time,Alcoholism,Handicap)<br>\n",
    "         \n",
    "          \n",
    "     \n",
    "\n",
    "> **Tip**: i used a  person correlation between waiting time and age \n",
    "\n",
    "### Limitations\n",
    "> **Tip**: \n",
    "         1)There are not enough reasons to reveal the reason why the patients did not show up on their appointment<br>\n",
    "         2)I I think a scatter plot doesn't show the relationships clearly<br>\n",
    "         3)My analysis was merely stating that there is an effect or there is no effect, or there is a relationship or not,<br> \n",
    "          and it is devoid of mentioning convincing reasons for that.<br>\n",
    "\n",
    "\n"
   ]
  },
  {
   "cell_type": "code",
   "execution_count": 43,
   "metadata": {},
   "outputs": [
    {
     "data": {
      "text/plain": [
       "1"
      ]
     },
     "execution_count": 43,
     "metadata": {},
     "output_type": "execute_result"
    }
   ],
   "source": [
    "from subprocess import call\n",
    "call(['python', '-m', 'nbconvert', 'Investigate_a_Dataset.ipynb'])"
   ]
  },
  {
   "cell_type": "code",
   "execution_count": null,
   "metadata": {},
   "outputs": [],
   "source": []
  }
 ],
 "metadata": {
  "kernelspec": {
   "display_name": "Python 3",
   "language": "python",
   "name": "python3"
  },
  "language_info": {
   "codemirror_mode": {
    "name": "ipython",
    "version": 3
   },
   "file_extension": ".py",
   "mimetype": "text/x-python",
   "name": "python",
   "nbconvert_exporter": "python",
   "pygments_lexer": "ipython3",
   "version": "3.8.8"
  }
 },
 "nbformat": 4,
 "nbformat_minor": 2
}
